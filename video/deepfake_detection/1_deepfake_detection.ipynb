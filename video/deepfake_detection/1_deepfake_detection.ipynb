{
 "cells": [
  {
   "cell_type": "markdown",
   "id": "68a8e57f",
   "metadata": {},
   "source": [
    "# Build a Deepfake Detection System in 5 Lines\n",
    "\n",
    "This notebook illustrates how to build a video deepfake detection system from scratch using [Towhee](https://towhee.io/). A deepfake detection system predict videos with probabilities being fake ones. This tutorial will use examples from [Deepfake Detection Challenge](https://www.kaggle.com/competitions/deepfake-detection-challenge).\n",
    "\n",
    "Using the sample data of different videos, we will build a basic deepfake detection system within 5 lines of code and check the performance using Towhee. At the end, we use [Gradio](https://gradio.app/) to create a showcase that can be played with."
   ]
  },
  {
   "cell_type": "markdown",
   "id": "6ddf7f23",
   "metadata": {},
   "source": [
    "## Preparation\n",
    "\n",
    "### Install packages\n",
    "\n",
    "Make sure you have installed required python packages:\n",
    "\n",
    "| package |\n",
    "| -- |\n",
    "| towhee |\n",
    "| towhee.models |\n",
    "| dlib |\n",
    "| facenet-pytorch |\n",
    "| albumentations |\n",
    "| timm |\n",
    "| pytorch_toolbelt |\n",
    "| tensorboardx |\n",
    "| tqdm |\n",
    "| gradio |"
   ]
  },
  {
   "cell_type": "code",
   "execution_count": 11,
   "id": "96393479",
   "metadata": {},
   "outputs": [],
   "source": [
    "! python -m pip install -q towhee towhee.models dlib facenet-pytorch albumentations timm pytorch_toolbelt tensorboardx tqdm gradio"
   ]
  },
  {
   "cell_type": "markdown",
   "id": "db28cef1",
   "metadata": {},
   "source": [
    "## Build System\n",
    "\n",
    "Now we are ready to build a deepfake detection system using sample data. We will use the [Combined efficientnet](https://arxiv.org/abs/2107.02612) model to predict the possibilites of being fake ones for input videos. With proper [Towhee operators](https://towhee.io/operators), you don't need to go through video preprocessing & model details. It is very simple to use the [method-chaining style API](https://towhee.readthedocs.io/en/main/index.html) to wrap operators and then apply them to batch inputs."
   ]
  },
  {
   "cell_type": "code",
   "execution_count": 1,
   "id": "6047691f",
   "metadata": {},
   "outputs": [
    {
     "name": "stderr",
     "output_type": "stream",
     "text": [
      "/home/xuyu/anaconda3/envs/miro/lib/python3.7/site-packages/tqdm/auto.py:22: TqdmWarning: IProgress not found. Please update jupyter and ipywidgets. See https://ipywidgets.readthedocs.io/en/stable/user_install.html\n",
      "  from .autonotebook import tqdm as notebook_tqdm\n"
     ]
    },
    {
     "name": "stdout",
     "output_type": "stream",
     "text": [
      "loading state dict /home/xuyu/.towhee/hub/towhee/deepfake/main/weights/final_999_DeepFakeClassifier_tf_efficientnet_b7_ns_0_23\n",
      "loading state dict /home/xuyu/.towhee/hub/towhee/deepfake/main/weights/final_555_DeepFakeClassifier_tf_efficientnet_b7_ns_0_19\n",
      "loading state dict /home/xuyu/.towhee/hub/towhee/deepfake/main/weights/final_777_DeepFakeClassifier_tf_efficientnet_b7_ns_0_31\n",
      "loading state dict /home/xuyu/.towhee/hub/towhee/deepfake/main/weights/final_888_DeepFakeClassifier_tf_efficientnet_b7_ns_0_40\n",
      "loading state dict /home/xuyu/.towhee/hub/towhee/deepfake/main/weights/final_111_DeepFakeClassifier_tf_efficientnet_b7_ns_0_36\n",
      "Predicting 2 videos\n"
     ]
    },
    {
     "data": {
      "text/html": [
       "<table style=\"border-collapse: collapse;\"><tr><th style=\"text-align: center; font-size: 130%; border: none;\">path</th> <th style=\"text-align: center; font-size: 130%; border: none;\">scores</th></tr> <tr><td style=\"text-align: center; vertical-align: center; border-right: solid 1px #D3D3D3; border-left: solid 1px #D3D3D3; \">/home/xuyu/Deepfake/deepfake_det...</td> <td style=\"text-align: left; vertical-align: center; border-right: solid 1px #D3D3D3; border-left: solid 1px #D3D3D3; \">[0.9893,0.9097] len=2</td></tr></table>"
      ],
      "text/plain": [
       "<IPython.core.display.HTML object>"
      ]
     },
     "metadata": {},
     "output_type": "display_data"
    }
   ],
   "source": [
    "import towhee\n",
    "\n",
    "(\n",
    "    towhee.glob['path']('/home/xuyu/Deepfake/deepfake_detec')\n",
    "          .deepfake['path', 'scores']()\n",
    "          .select['path', 'scores']()\n",
    "          .show()\n",
    ")"
   ]
  },
  {
   "cell_type": "markdown",
   "id": "8980823c",
   "metadata": {},
   "source": [
    "#### Pipeline Explanation\n",
    "\n",
    "Here are some details for each line of the assemble pipeline:\n",
    "\n",
    "- `towhee.deepfake()`: a Towhee operator applying pretrained models to predict the probabilite a video being a fake one. The higher the score, the higher the probability of it being a fake video.[learn more](https://towhee.io/towhee/deepfake)"
   ]
  },
  {
   "cell_type": "markdown",
   "id": "77ffadef",
   "metadata": {},
   "source": [
    "## Release a Showcase\n",
    "\n",
    "We've learnt how to build a deepfake detection system. Now it's time to add some interface and release a showcase. Towhee provides `towhee.api()` to wrap the data processing pipeline as a function with `.as_function()`. So we can build a quick demo with this `deepfake_detection_function` with [Gradio](https://gradio.app/)."
   ]
  },
  {
   "cell_type": "code",
   "execution_count": 4,
   "id": "a82a7101",
   "metadata": {},
   "outputs": [],
   "source": [
    "with towhee.api() as api:\n",
    "    deepfake_detection_function = (\n",
    "        api.deepfake()\n",
    "            .as_function()\n",
    "    )"
   ]
  },
  {
   "cell_type": "code",
   "execution_count": 5,
   "id": "2097730d",
   "metadata": {},
   "outputs": [
    {
     "name": "stdout",
     "output_type": "stream",
     "text": [
      "Running on local URL:  http://127.0.0.1:7860/\n",
      "Running on public URL: https://26947.gradio.app\n",
      "\n",
      "This share link expires in 72 hours. For free permanent hosting, check out Spaces (https://huggingface.co/spaces)\n"
     ]
    },
    {
     "data": {
      "text/html": [
       "<div><iframe src=\"https://26947.gradio.app\" width=\"900\" height=\"500\" allow=\"autoplay; camera; microphone;\" frameborder=\"0\" allowfullscreen></iframe></div>"
      ],
      "text/plain": [
       "<IPython.core.display.HTML object>"
      ]
     },
     "metadata": {},
     "output_type": "display_data"
    },
    {
     "data": {
      "text/plain": [
       "(<gradio.routes.App at 0x7f60093e9990>,\n",
       " 'http://127.0.0.1:7860/',\n",
       " 'https://26947.gradio.app')"
      ]
     },
     "execution_count": 5,
     "metadata": {},
     "output_type": "execute_result"
    },
    {
     "name": "stdout",
     "output_type": "stream",
     "text": [
      "loading state dict /home/xuyu/.towhee/hub/towhee/deepfake/main/weights/final_999_DeepFakeClassifier_tf_efficientnet_b7_ns_0_23\n",
      "loading state dict /home/xuyu/.towhee/hub/towhee/deepfake/main/weights/final_555_DeepFakeClassifier_tf_efficientnet_b7_ns_0_19\n",
      "loading state dict /home/xuyu/.towhee/hub/towhee/deepfake/main/weights/final_777_DeepFakeClassifier_tf_efficientnet_b7_ns_0_31\n",
      "loading state dict /home/xuyu/.towhee/hub/towhee/deepfake/main/weights/final_888_DeepFakeClassifier_tf_efficientnet_b7_ns_0_40\n",
      "loading state dict /home/xuyu/.towhee/hub/towhee/deepfake/main/weights/final_111_DeepFakeClassifier_tf_efficientnet_b7_ns_0_36\n",
      "Predicting 2 videos\n"
     ]
    }
   ],
   "source": [
    "import gradio\n",
    "\n",
    "interface = gradio.Interface(deepfake_detection_function, \n",
    "                             inputs = gradio.Textbox(lines=1),\n",
    "                             outputs = [gradio.Textbox(lines=1)]\n",
    "                            )\n",
    "\n",
    "interface.launch(inline=True, share=True)"
   ]
  },
  {
   "cell_type": "markdown",
   "id": "c3fe8e85",
   "metadata": {},
   "source": [
    "<img src='deepfake.jpg' alt='deepfake_detection_demo' width=700px/>"
   ]
  }
 ],
 "metadata": {
  "kernelspec": {
   "display_name": "Python 3 (ipykernel)",
   "language": "python",
   "name": "python3"
  },
  "language_info": {
   "codemirror_mode": {
    "name": "ipython",
    "version": 3
   },
   "file_extension": ".py",
   "mimetype": "text/x-python",
   "name": "python",
   "nbconvert_exporter": "python",
   "pygments_lexer": "ipython3",
   "version": "3.9.7"
  },
  "vscode": {
   "interpreter": {
    "hash": "35c58d93b38fbcdad569494dd47e75d78c27f86bef8773bf045d681c65f3bc77"
   }
  }
 },
 "nbformat": 4,
 "nbformat_minor": 5
}
