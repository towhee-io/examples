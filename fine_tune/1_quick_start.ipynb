{
 "cells": [
  {
   "cell_type": "markdown",
   "metadata": {
    "collapsed": true,
    "pycharm": {
     "name": "#%% md\n"
    }
   },
   "source": [
    "# Quick Start"
   ]
  },
  {
   "cell_type": "markdown",
   "source": [
    "Follow steps below to get started with a jupyter notebook for how to train a Towhee operator. This example fine-tunes a pretrained model (eg. resnet-18) with a fake dataset."
   ],
   "metadata": {
    "collapsed": false
   }
  },
  {
   "cell_type": "markdown",
   "source": [
    "# 1. Download Operator"
   ],
   "metadata": {
    "collapsed": false
   }
  },
  {
   "cell_type": "code",
   "execution_count": 1,
   "outputs": [
    {
     "name": "stdout",
     "output_type": "stream",
     "text": [
      "Cloning into 'resnet-image-embedding'...\r\n",
      "remote: Enumerating objects: 220, done.\u001B[K\r\n",
      "remote: Counting objects: 100% (220/220), done.\u001B[K\r\n",
      "remote: Compressing objects: 100% (212/212), done.\u001B[K\r\n",
      "remote: Total 220 (delta 119), reused 0 (delta 0), pack-reused 0\u001B[K\r\n",
      "Receiving objects: 100% (220/220), 908.00 KiB | 279.00 KiB/s, done.\r\n",
      "Resolving deltas: 100% (119/119), done.\r\n",
      "/media/supermicro/DATA1/zhangchen_workspace/towhee_examples/resnet-image-embedding\n",
      "\u001B[0m\u001B[01;34mexamples\u001B[0m/                     requirements.txt\r\n",
      "\u001B[01;35mILSVRC2012_val_00049771.JPEG\u001B[0m  resnet_image_embedding.py\r\n",
      "__init__.py                   resnet_image_embedding.yaml\r\n",
      "README.md                     resnet_training_yaml.yaml\r\n"
     ]
    }
   ],
   "source": [
    "! git clone https://towhee.io/towhee/resnet-image-embedding.git\n",
    "%cd resnet-image-embedding\n",
    "%ls"
   ],
   "metadata": {
    "collapsed": false,
    "pycharm": {
     "name": "#%%\n"
    }
   }
  },
  {
   "cell_type": "markdown",
   "source": [
    "Then run Python scripts in following steps to train and test a Towhee operator."
   ],
   "metadata": {
    "collapsed": false
   }
  },
  {
   "cell_type": "markdown",
   "source": [
    "# 2. Setup Operator"
   ],
   "metadata": {
    "collapsed": false
   }
  },
  {
   "cell_type": "markdown",
   "source": [
    "Create operator and load model by name."
   ],
   "metadata": {
    "collapsed": false
   }
  },
  {
   "cell_type": "code",
   "execution_count": 2,
   "outputs": [],
   "source": [
    "# sys.path.append('..')\n",
    "from resnet_image_embedding import ResnetImageEmbedding\n",
    "from towhee.trainer.training_config import TrainingConfig\n",
    "from torchvision import transforms\n",
    "from towhee import dataset\n",
    "op = ResnetImageEmbedding('resnet18', num_classes=10)"
   ],
   "metadata": {
    "collapsed": false,
    "pycharm": {
     "name": "#%%\n"
    }
   }
  },
  {
   "cell_type": "markdown",
   "source": [
    "# 3. Configure Trainer:"
   ],
   "metadata": {
    "collapsed": false
   }
  },
  {
   "cell_type": "markdown",
   "source": [
    "Modify training configurations on top of default values."
   ],
   "metadata": {
    "collapsed": false
   }
  },
  {
   "cell_type": "code",
   "execution_count": 3,
   "outputs": [],
   "source": [
    "# build a training config:\n",
    "training_config = TrainingConfig(\n",
    "    batch_size=2,\n",
    "    epoch_num=2,\n",
    "    output_dir='quick_start_output'\n",
    ")"
   ],
   "metadata": {
    "collapsed": false,
    "pycharm": {
     "name": "#%%\n"
    }
   }
  },
  {
   "cell_type": "markdown",
   "source": [
    "# 4. Prepare Dataset"
   ],
   "metadata": {
    "collapsed": false
   }
  },
  {
   "cell_type": "markdown",
   "source": [
    "The example here uses a fake dataset for both training and evaluation."
   ],
   "metadata": {
    "collapsed": false
   }
  },
  {
   "cell_type": "code",
   "execution_count": 4,
   "outputs": [],
   "source": [
    "# prepare the dataset\n",
    "fake_transform = transforms.Compose([transforms.ToTensor()])\n",
    "train_data = dataset('fake', size=20, transform=fake_transform)\n",
    "eval_data = dataset('fake', size=10, transform=fake_transform)"
   ],
   "metadata": {
    "collapsed": false,
    "pycharm": {
     "name": "#%%\n"
    }
   }
  },
  {
   "cell_type": "markdown",
   "source": [
    "# 5. Start Training\n"
   ],
   "metadata": {
    "collapsed": false
   }
  },
  {
   "cell_type": "markdown",
   "source": [
    "Now everything is ready, start training.\n",
    "\n"
   ],
   "metadata": {
    "collapsed": false
   }
  },
  {
   "cell_type": "code",
   "execution_count": 5,
   "outputs": [
    {
     "name": "stderr",
     "output_type": "stream",
     "text": [
      "2022-03-23 12:37:45,355 - 139993194329920 - trainer.py-trainer:319 - WARNING: TrainingConfig(output_dir='quick_start_output', overwrite_output_dir=True, eval_strategy='epoch', eval_steps=None, batch_size=2, val_batch_size=-1, seed=42, epoch_num=2, dataloader_pin_memory=True, dataloader_drop_last=True, dataloader_num_workers=0, lr=5e-05, metric='Accuracy', print_steps=None, load_best_model_at_end=False, early_stopping={'monitor': 'eval_epoch_metric', 'patience': 4, 'mode': 'max'}, model_checkpoint={'every_n_epoch': 1}, tensorboard={'log_dir': None, 'comment': ''}, loss='CrossEntropyLoss', optimizer='Adam', lr_scheduler_type='linear', warmup_ratio=0.0, warmup_steps=0, device_str=None, sync_bn=False, freeze_bn=False)\n",
      "[epoch 1/2] loss=2.654, metric=0.15, eval_loss=2.445, eval_metric=0.2: 100%|████████████████████████████████████████████████████████| 10/10 [00:01<00:00,  6.03step/s]\n",
      "[epoch 2/2] loss=1.908, metric=0.2, eval_loss=1.826, eval_metric=0.2: 100%|█████████████████████████████████████████████████████████| 10/10 [00:00<00:00, 35.52step/s]"
     ]
    }
   ],
   "source": [
    "op.train(\n",
    "    training_config,\n",
    "    train_dataset=train_data,\n",
    "    eval_dataset=eval_data\n",
    ")"
   ],
   "metadata": {
    "collapsed": false,
    "pycharm": {
     "name": "#%%\n"
    }
   }
  },
  {
   "cell_type": "markdown",
   "source": [
    "With a successful training, you will see progress bar below and a `quick_start_output` folder containing training results."
   ],
   "metadata": {
    "collapsed": false,
    "pycharm": {
     "name": "#%% md\n"
    }
   }
  }
 ],
 "metadata": {
  "kernelspec": {
   "name": "python3",
   "language": "python",
   "display_name": "Python 3 (ipykernel)"
  },
  "language_info": {
   "codemirror_mode": {
    "name": "ipython",
    "version": 2
   },
   "file_extension": ".py",
   "mimetype": "text/x-python",
   "name": "python",
   "nbconvert_exporter": "python",
   "pygments_lexer": "ipython2",
   "version": "2.7.6"
  }
 },
 "nbformat": 4,
 "nbformat_minor": 0
}